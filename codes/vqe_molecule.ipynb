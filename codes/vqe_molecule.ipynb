{
 "cells": [
  {
   "cell_type": "code",
   "execution_count": 6,
   "metadata": {},
   "outputs": [],
   "source": [
    "from qiskit.algorithms.minimum_eigensolvers import NumPyMinimumEigensolver, VQE \n",
    "from qiskit.algorithms.optimizers import SLSQP \n",
    "from qiskit.circuit.library import TwoLocal \n",
    "from qiskit.quantum_info import SparsePauliOp \n",
    "import matplotlib.pyplot as plt\n",
    "import numpy as np\n",
    "from IPython.display import display\n",
    "#pip install qiskit[nature]\n",
    "import qiskit_nature\n",
    "from qiskit_nature.second_q.transformers import FreezeCoreTransformer\n",
    "from qiskit_nature.second_q.formats.molecule_info import MoleculeInfo\n",
    "from qiskit_nature.second_q.mappers import ParityMapper\n",
    "from qiskit_nature.second_q.circuit.library import UCCSD, HartreeFock\n",
    "qiskit_nature.settings.use_pauli_sum_op = False\n",
    "#install psi4 library   \n",
    "from qiskit_nature.second_q.drivers import Psi4Driver\n",
    "#pip install qiskit-ibm-runtime\n",
    "from qiskit_ibm_runtime import qiskit_runtime_service, Estimator"
   ]
  },
  {
   "cell_type": "code",
   "execution_count": 7,
   "metadata": {},
   "outputs": [],
   "source": [
    "#hamiltonian = SparsePauliOp.from_list([('II', -1), ('IZ', 0.3), ('XI', -0.3), ('ZY', -0.01), ('YX', 0.1)]) \n",
    "\n",
    "def qubit_operator(dist):\n",
    "    # Define Molecule\n",
    "    mol = MoleculeInfo(\n",
    "        symbols=[\"H\", \"H\"],\n",
    "        coords=([0.0, 0.0, 0.0], [dist, 0.0, 0.0]),\n",
    "        multiplicity=1,  #2*spin + 1\n",
    "        charge=0,\n",
    "    )\n",
    "\n",
    "    prob_unmod = Psi4Driver.from_molecule(mol).run()\n",
    "\n",
    "    # reducing electron structure by symmetry and Born–Oppenheimer approximation\n",
    "    problem = FreezeCoreTransformer(\n",
    "        freeze_core=True, remove_orbitals=[-3, -2]\n",
    "    ).transform(prob_unmod)\n",
    "\n",
    "    particle_count = problem.num_particles\n",
    "    spatial_orbitals_count = problem.num_spatial_orbitals\n",
    "\n",
    "    mapper = ParityMapper(num_particles=particle_count)\n",
    "    hamiltonian = mapper.map(problem.second_q_ops()[0])\n",
    "    return hamiltonian, particle_count, spatial_orbitals_count, problem, mapper"
   ]
  },
  {
   "cell_type": "code",
   "execution_count": 8,
   "metadata": {},
   "outputs": [],
   "source": [
    "def exact_solver(hamiltonian, problem):\n",
    "    sol = NumPyMinimumEigensolver().compute_minimum_eigenvalue(hamiltonian)\n",
    "    result = problem.interpret(sol)\n",
    "    return result"
   ]
  },
  {
   "cell_type": "code",
   "execution_count": 9,
   "metadata": {},
   "outputs": [],
   "source": [
    "service = QiskitRuntimeService(channel=\"ibm_quantum\", token=\"68e741eb4ff82f98673409939261d735201636fa51b3654fc5a8dd08359651981481178017c543bc4e92dd12388951e22c2ae95d95b3012d19c185efe132d815\")\n",
    "backend =  service.get_backend(\"ibmq_naomi\")\n",
    "estimator = Estimator(session=backend) \n",
    "optimizer = SLSQP() \n",
    "#ansatz = TwoLocal(rotation_blocks=['ry', 'rz'], entanglement_blocks='cz') \n",
    "#vqe = VQE(estimator, ansatz, optimizer)"
   ]
  },
  {
   "cell_type": "code",
   "execution_count": null,
   "metadata": {},
   "outputs": [],
   "source": [
    "exact_energies = []\n",
    "vqe_energies = []\n",
    "circ_ls = []\n",
    "\n",
    "for i in np.arange(0.3, 2.5, 0.1):\n",
    "    get_op = qubit_operator(i)\n",
    "\n",
    "    init_state = HartreeFock(get_op[2], get_op[1], get_op[4])\n",
    "    ansatz = UCCSD(\n",
    "        get_op[2], get_op[1], get_op[4], initial_state=init_state\n",
    "    )\n",
    "    \n",
    "    vqe = VQE(estimator, ansatz, optimizer, initial_point=[0] * ansatz.num_parameters)\n",
    "    result = vqe.compute_minimum_eigenvalue(operator=get_op[0]) \n",
    "    print(result)\n",
    "    np_result = exact_solver(get_op[0], get_op[3]).total_energies[0].real\n",
    "    exact_energies.append(np_result)\n",
    "    circ_ls.append(result.optimal_circuit)\n",
    "    vqe_calc = vqe.compute_minimum_eigenvalue(operator=get_op[0])\n",
    "    vqe_result = get_op[3].interpret(vqe_calc).total_energies[0].real\n",
    "    vqe_energies.append(vqe_result)\n",
    "    print('distance:',i,'vqe energy:', vqe_result, 'actual:', np_result)"
   ]
  },
  {
   "cell_type": "markdown",
   "metadata": {},
   "source": [
    "<img src = images/graph.png width = \"600\" height = \"400\" >\n",
    "<img src = images/eqn.png  >"
   ]
  },
  {
   "cell_type": "code",
   "execution_count": null,
   "metadata": {},
   "outputs": [],
   "source": [
    "display(circ_ls[1].decompose().draw(output='mpl'))\n",
    "final_array = np.array(list(result.optimal_parameters.items()))\n",
    "\n",
    "plt.figure(1, figsize=( 4, 0.218*np.shape(final_array)[0]))\n",
    "tb = plt.table(cellText=final_array, loc=(0,0), cellLoc='center')\n",
    "\n",
    "ax = plt.gca()\n",
    "ax.set_xticks([])\n",
    "ax.set_yticks([])\n",
    "\n",
    "plt.show()"
   ]
  },
  {
   "cell_type": "markdown",
   "metadata": {},
   "source": [
    "The output above prints Ansatz (our simple twolocal visualized here) fit with parameter. optimal_parameters giving eigenvalue are also given below the diagram"
   ]
  },
  {
   "cell_type": "code",
   "execution_count": null,
   "metadata": {},
   "outputs": [],
   "source": []
  }
 ],
 "metadata": {
  "kernelspec": {
   "display_name": "qiskit-stable",
   "language": "python",
   "name": "python3"
  },
  "language_info": {
   "codemirror_mode": {
    "name": "ipython",
    "version": 3
   },
   "file_extension": ".py",
   "mimetype": "text/x-python",
   "name": "python",
   "nbconvert_exporter": "python",
   "pygments_lexer": "ipython3",
   "version": "3.8.17"
  },
  "orig_nbformat": 4
 },
 "nbformat": 4,
 "nbformat_minor": 2
}
